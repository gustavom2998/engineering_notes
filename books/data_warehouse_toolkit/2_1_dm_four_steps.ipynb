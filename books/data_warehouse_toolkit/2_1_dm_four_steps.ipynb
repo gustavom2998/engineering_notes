{
 "cells": [
  {
   "attachments": {},
   "cell_type": "markdown",
   "metadata": {},
   "source": [
    "# Dimensional modelling concepts - Four step design process\n",
    "\n",
    "## Business requirements \n",
    "\n",
    "- Understand the business by talking to business representatives. \n",
    "    - What are the KPIs?\n",
    "    - What are some business issues that need to be solved with data?\n",
    "    - What analytical needs will be supported by this model\n",
    "\n",
    "## Data realities\n",
    "\n",
    "- Talk with source systems experts to understand \n",
    "    - The type of data that is available.\n",
    "    - How often the models change.\n",
    "    - What systems is the data coming from and how is it stored.\n",
    "    - Common problems with it.\n",
    "    - How often it's updated.\n",
    "\n",
    "## Collaborative modelling workshops\n",
    "\n",
    "- Dimensional models should be design with help from experts and data governance representatives from the business.\n",
    "- The model should be derived from a interactive workshops with these experts.\n",
    "- Models shouldn't be designed in isolation since the designer may not understand the business requirements or the data realities.\n",
    "\n",
    "## Four step design process\n",
    "\n",
    "1. Select the business process\n",
    "    - Identify operational activities to be modeled.\n",
    "    - Identify events that capture performance metrics (for fact table).\n",
    "    - Each process is a row in the enterprise data warehouse bus matrix.\n",
    "2. Declare the grain\n",
    "    - Establish a contract on what a single fact table row represents.\n",
    "    - Facts/dimensions must be consistent with the grain.\n",
    "    - Each grain = a separate physical table.\n",
    "3. Identify the dimensions\n",
    "    - Who, what, where, when, why, how.\n",
    "    - Must contain descriptive attributes used by BI applications for filters.\n",
    "4. Identify the facts\n",
    "    - 1 fact = 1 process events. \n",
    "    - Measure values are almost always numeric.\n",
    "    - List facts consistent with the table grain.\n",
    "    - After meeting business requirements, adapt to data realities.\n",
    "\n",
    "## Case study: Retail Sales\n",
    "\n",
    "**Context**: Large grocery chain. Multiple stores spread out across multiple states. Each store has multiple departments: Grocery, frozen foods, meats, product, bakery, floral, health/beauty. Multiple products identified by Stock Keep units (SKU).\n",
    "\n",
    "**Data collection**: Several operational systems. Cash registers collect customer purchases, Point of Sale systems collect data related to SKUs. Customer receipts contain a copy of: Store number, cashier identifier and name, product SKU, product name, cost, discount information, coupon information, total cost, item count, transaction number, transaction time and a receipt number. Vendor deliveries are also tracked at store back door.\n",
    "\n",
    "**Business interests**: Logistics of ordering, stocking and selecting products while maximizing profits. This comes from charging as much as possible for products while keeping customers happy. Management and marketing makes decisions related to pricing and promotions which can greatly impact sales. Promotions include temporary price reductions, coupons and ads.\n",
    "\n",
    "1. Business processes: Better understand point of sale systems (retail sales transactions). The objective is to analyze **what products** are selling, in **what stores**, with **what promotions** and **when**.\n",
    "2. Grain: When we analyze the business process we proposed to analyze, we seen that the grain is a **single product in a sales transaction**. After analyzing the proposal, we can see that we don't propose drilling down deeper than into an individual products in a sale.\n",
    "3. Dimensions: There are some keywords that have repeated over our analysis. **Stores**, **products**, **transactions**, **promotions**, **cashiers**, **payment methods** and **dates**.\n",
    "4. Facts: We can basically identify how to transform the grain into a table. The grain is a single product in a sales transaction. The facts are metrics collected for the grain, therefore we can identify some metrics from the receipt: Number of products, regular price, discount, extended discount (quantity * discount), extended sales dollar amount (quantity * net unit price), net paid price(sales dollar - extended discount). Also some systems contain a standard dollar cost price.\n",
    "\n",
    "Below, we outline a basic diagram containing what could be the start of a dimensional model for the proposed case:\n",
    "\n",
    "![Retail Sales Partial Dimensional Model](https://github.com/gustavom2998/engineering_notes/blob/main/books/data_warehouse_toolkit/images/2_1.png?raw=true)"
   ]
  },
  {
   "attachments": {},
   "cell_type": "markdown",
   "metadata": {},
   "source": [
    "## SQL Snippets\n",
    "While covering new topics we can implement, we will be using [DuckDB](https://duckdb.org/) to run SQL scripts that test, validate, and implement these ideas. DuckDB is a in-process relational DBMS that designed for OLAP workloads, similar to what SQLite is for OLTP workloads.\n",
    "\n",
    "We can start by implementing basic definitions for our dimensions for our case study, even though they might change in the near future. For now, we will be using the `CREATE TABLE` statement, as well as the Constraints mechanism to define `PRIMARY` and `FOREIGN` keys. Take a look at the documentation to get a brief idea about [create table](https://duckdb.org/docs/sql/statements/create_table) and [table constraints](https://duckdb.org/docs/sql/constraints). \n",
    "\n",
    "Below, we list the table definitions for our dimensional and facts tables. "
   ]
  },
  {
   "cell_type": "code",
   "execution_count": 1,
   "metadata": {},
   "outputs": [
    {
     "name": "stdout",
     "output_type": "stream",
     "text": [
      "Requirement already satisfied: duckdb in c:\\python38\\lib\\site-packages (0.7.1)\n",
      "Note: you may need to restart the kernel to use updated packages.\n"
     ]
    },
    {
     "name": "stderr",
     "output_type": "stream",
     "text": [
      "WARNING: You are using pip version 20.2.1; however, version 23.1.2 is available.\n",
      "You should consider upgrading via the 'c:\\Python38\\python.exe -m pip install --upgrade pip' command.\n"
     ]
    }
   ],
   "source": [
    "# Install DuckDB if not installed\n",
    "%pip install duckdb"
   ]
  },
  {
   "cell_type": "code",
   "execution_count": 2,
   "metadata": {},
   "outputs": [],
   "source": [
    "import duckdb\n",
    "\n",
    "# Start duckdb connection\n",
    "db = duckdb.connect(\"retail_sales.db\")"
   ]
  },
  {
   "cell_type": "code",
   "execution_count": 3,
   "metadata": {},
   "outputs": [
    {
     "data": {
      "text/plain": [
       "<duckdb.DuckDBPyConnection at 0x2454b334230>"
      ]
     },
     "execution_count": 3,
     "metadata": {},
     "output_type": "execute_result"
    }
   ],
   "source": [
    "# Create the date dimension\n",
    "date_dim_ddl = \"\"\"\n",
    "CREATE OR REPLACE TABLE date_dim (\n",
    "    date_id INTEGER PRIMARY KEY,\n",
    "    date_value DATE\n",
    ")\n",
    "\"\"\"\n",
    "\n",
    "db.execute(date_dim_ddl)"
   ]
  },
  {
   "cell_type": "code",
   "execution_count": 4,
   "metadata": {},
   "outputs": [
    {
     "data": {
      "text/plain": [
       "<duckdb.DuckDBPyConnection at 0x2454b334230>"
      ]
     },
     "execution_count": 4,
     "metadata": {},
     "output_type": "execute_result"
    }
   ],
   "source": [
    "# Create the store dimension\n",
    "store_dim_ddl = \"\"\"\n",
    "CREATE OR REPLACE TABLE store_dim (\n",
    "    store_id INTEGER PRIMARY KEY,\n",
    "    store_name VARCHAR\n",
    ")\n",
    "\"\"\"\n",
    "\n",
    "db.execute(store_dim_ddl)"
   ]
  },
  {
   "cell_type": "code",
   "execution_count": 5,
   "metadata": {},
   "outputs": [
    {
     "data": {
      "text/plain": [
       "<duckdb.DuckDBPyConnection at 0x2454b334230>"
      ]
     },
     "execution_count": 5,
     "metadata": {},
     "output_type": "execute_result"
    }
   ],
   "source": [
    "# Create the cashier dimension\n",
    "cashier_dim_ddl = \"\"\"\n",
    "CREATE OR REPLACE TABLE cashier_dim (\n",
    "    cashier_id INTEGER PRIMARY KEY,\n",
    "    cashier_name VARCHAR\n",
    ")\n",
    "\"\"\"\n",
    "\n",
    "db.execute(cashier_dim_ddl)"
   ]
  },
  {
   "cell_type": "code",
   "execution_count": 6,
   "metadata": {},
   "outputs": [
    {
     "data": {
      "text/plain": [
       "<duckdb.DuckDBPyConnection at 0x2454b334230>"
      ]
     },
     "execution_count": 6,
     "metadata": {},
     "output_type": "execute_result"
    }
   ],
   "source": [
    "# Create the product dimension\n",
    "product_dim_ddl = \"\"\"\n",
    "CREATE OR REPLACE TABLE product_dim (\n",
    "    product_id INTEGER PRIMARY KEY,\n",
    "    product_name VARCHAR\n",
    ")\n",
    "\"\"\"\n",
    "\n",
    "db.execute(product_dim_ddl)\n"
   ]
  },
  {
   "cell_type": "code",
   "execution_count": 7,
   "metadata": {},
   "outputs": [
    {
     "data": {
      "text/plain": [
       "<duckdb.DuckDBPyConnection at 0x2454b334230>"
      ]
     },
     "execution_count": 7,
     "metadata": {},
     "output_type": "execute_result"
    }
   ],
   "source": [
    "# Create the promotion dimension\n",
    "promotion_dim_ddl = \"\"\"\n",
    "CREATE OR REPLACE TABLE promotion_dim (\n",
    "    promotion_id INTEGER PRIMARY KEY,\n",
    "    promotion_type VARCHAR\n",
    ")\n",
    "\"\"\"\n",
    "\n",
    "db.execute(promotion_dim_ddl)\n"
   ]
  },
  {
   "cell_type": "code",
   "execution_count": 8,
   "metadata": {},
   "outputs": [
    {
     "data": {
      "text/plain": [
       "<duckdb.DuckDBPyConnection at 0x2454b334230>"
      ]
     },
     "execution_count": 8,
     "metadata": {},
     "output_type": "execute_result"
    }
   ],
   "source": [
    "# Create the payment method dimension\n",
    "payment_method_dim_ddl = \"\"\"\n",
    "CREATE OR REPLACE TABLE payment_method_dim (\n",
    "    payment_method_id INTEGER PRIMARY KEY,\n",
    "    payment_method VARCHAR\n",
    ")\n",
    "\"\"\"\n",
    "\n",
    "db.execute(payment_method_dim_ddl)\n",
    "\n"
   ]
  },
  {
   "cell_type": "code",
   "execution_count": 9,
   "metadata": {},
   "outputs": [
    {
     "data": {
      "text/plain": [
       "<duckdb.DuckDBPyConnection at 0x2454b334230>"
      ]
     },
     "execution_count": 9,
     "metadata": {},
     "output_type": "execute_result"
    }
   ],
   "source": [
    "# Create the retail sales fact table\n",
    "retail_sales_ddl = \"\"\"\n",
    "CREATE OR REPLACE TABLE retail_sales (\n",
    "    date_id INTEGER REFERENCES date_dim(date_id),\n",
    "    store_id INTEGER REFERENCES store_dim(store_id),\n",
    "    cashier_id INTEGER REFERENCES cashier_dim(cashier_id),\n",
    "    product_id INTEGER REFERENCES product_dim(product_id),\n",
    "    promotion_id INTEGER REFERENCES promotion_dim(promotion_id),\n",
    "    payment_method_id INTEGER REFERENCES payment_method_dim(payment_method_id),\n",
    "    PRIMARY KEY (date_id, store_id, cashier_id, product_id, promotion_id, payment_method_id),\n",
    "    pos_transaction_id INTEGER,\n",
    "    sales_quantity UINTEGER,\n",
    "    regular_unit_price FLOAT,\n",
    "    discount_unit_price FLOAT,\n",
    "    net_unit_price FLOAT,\n",
    "    extended_discount_dollars FLOAT,\n",
    "    extended_sales_dollars FLOAT,\n",
    "    extended_cost_dollars FLOAT,\n",
    "    extended_gross_profit_dollars FLOAT\n",
    ")\n",
    "\"\"\"\n",
    "\n",
    "db.execute(retail_sales_ddl)"
   ]
  },
  {
   "cell_type": "code",
   "execution_count": 10,
   "metadata": {},
   "outputs": [],
   "source": [
    "db.commit()\n",
    "db.close()"
   ]
  },
  {
   "attachments": {},
   "cell_type": "markdown",
   "metadata": {},
   "source": [
    "\n",
    "## Reference\n",
    "\n",
    "Personal notes for educational purposes based of the book [The Data Warehouse Toolkit: The Definitive Guide to Dimensional Modeling](https://www.amazon.com/Data-Warehouse-Toolkit-Definitive-Dimensional/dp/1118530802) by Ralph Kimball and Margy Ross, 3rd edition.\n",
    "\n",
    "\n",
    "DuckDB. Why DuckDB? Retrieved April 30, 2023, from [https://duckdb.org/why_duckdb](https://duckdb.org/why_duckdb)."
   ]
  }
 ],
 "metadata": {
  "kernelspec": {
   "display_name": "Python 3",
   "language": "python",
   "name": "python3"
  },
  "language_info": {
   "codemirror_mode": {
    "name": "ipython",
    "version": 3
   },
   "file_extension": ".py",
   "mimetype": "text/x-python",
   "name": "python",
   "nbconvert_exporter": "python",
   "pygments_lexer": "ipython3",
   "version": "3.8.6"
  },
  "orig_nbformat": 4
 },
 "nbformat": 4,
 "nbformat_minor": 2
}
